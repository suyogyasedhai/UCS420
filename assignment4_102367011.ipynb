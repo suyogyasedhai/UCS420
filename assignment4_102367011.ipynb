{
 "cells": [
  {
   "cell_type": "code",
   "execution_count": 1,
   "id": "5f45a3c7-c784-49e1-b45d-456d2e6f8cbd",
   "metadata": {},
   "outputs": [
    {
     "name": "stdout",
     "output_type": "stream",
     "text": [
      "Array after adding 2 to each element: [12 22 32 42 52]\n",
      "Array after multiplying each element by 3: [ 30  60  90 120 150]\n",
      "Array after dividing each element by 2: [ 5. 10. 15. 20. 25.]\n"
     ]
    }
   ],
   "source": [
    "import numpy as np\n",
    "\n",
    "arr = np.array([10, 20, 30, 40, 50])\n",
    "\n",
    "arr_addition = arr + 2\n",
    "print(\"Array after adding 2 to each element:\", arr_addition)\n",
    "\n",
    "arr_multiplication = arr * 3\n",
    "print(\"Array after multiplying each element by 3:\", arr_multiplication)\n",
    "\n",
    "arr_division = arr / 2\n",
    "print(\"Array after dividing each element by 2:\", arr_division)\n"
   ]
  },
  {
   "cell_type": "code",
   "execution_count": 2,
   "id": "bd84e658-0677-4a73-84b2-fab98318eabf",
   "metadata": {},
   "outputs": [
    {
     "name": "stdout",
     "output_type": "stream",
     "text": [
      "[5 4 6 3 2 1]\n",
      "1 [0 5 7 8 9]\n",
      "1 [0 1 2]\n"
     ]
    }
   ],
   "source": [
    "import numpy as np\n",
    "\n",
    "# Part (a): Reverse the NumPy array\n",
    "arr = np.array([1, 2, 3, 6, 4, 5])\n",
    "reversed_arr = arr[::-1]\n",
    "print(reversed_arr)\n",
    "\n",
    "# Part (b): Find the most frequent value and their indices\n",
    "def most_frequent(arr):\n",
    "    values, counts = np.unique(arr, return_counts=True)\n",
    "    max_count = np.max(counts)\n",
    "    most_frequent_value = values[np.argmax(counts)]\n",
    "    indices = np.where(arr == most_frequent_value)[0]\n",
    "    return most_frequent_value, indices\n",
    "\n",
    "x = np.array([1,2,3,4,5,1,2,1,1,1])\n",
    "y = np.array([1, 1, 1, 2, 3, 4, 2, 4, 3, 3])\n",
    "\n",
    "value_x, indices_x = most_frequent(x)\n",
    "print(value_x, indices_x)\n",
    "\n",
    "value_y, indices_y = most_frequent(y)\n",
    "print(value_y, indices_y)\n"
   ]
  },
  {
   "cell_type": "code",
   "execution_count": 3,
   "id": "da47c52e-ba66-49c0-8041-9ea19d73bb54",
   "metadata": {},
   "outputs": [
    {
     "name": "stdout",
     "output_type": "stream",
     "text": [
      "Element at 1st row, 2nd column: 20\n",
      "Element at 3rd row, 1st column: 70\n"
     ]
    }
   ],
   "source": [
    "import numpy as np\n",
    "\n",
    "# Define the 2D array\n",
    "arr = np.array([[10, 20, 30], \n",
    "                [40, 50, 60], \n",
    "                [70, 80, 90]])\n",
    "\n",
    "# a) Access 1st row, 2nd column (row index 0, column index 1)\n",
    "element_a = arr[0, 1]\n",
    "\n",
    "# b) Access 3rd row, 1st column (row index 2, column index 0)\n",
    "element_b = arr[2, 0]\n",
    "\n",
    "print(\"Element at 1st row, 2nd column:\", element_a)\n",
    "print(\"Element at 3rd row, 1st column:\", element_b)\n"
   ]
  },
  {
   "cell_type": "code",
   "execution_count": 5,
   "id": "58ee20b5-7ede-46b9-8abe-48cca3023b2f",
   "metadata": {},
   "outputs": [
    {
     "name": "stdout",
     "output_type": "stream",
     "text": [
      "Array: [ 10.    13.75  17.5   21.25  25.    28.75  32.5   36.25  40.    43.75\n",
      "  47.5   51.25  55.    58.75  62.5   66.25  70.    73.75  77.5   81.25\n",
      "  85.    88.75  92.5   96.25 100.  ]\n",
      "Dimensions of array: 1\n",
      "Shape of array: (25,)\n",
      "Total elements: 25\n",
      "Data type of elements: float64\n",
      "Total bytes consumed: 200\n",
      "\n",
      "Transposed array using reshape():\n",
      " [[ 10.  ]\n",
      " [ 13.75]\n",
      " [ 17.5 ]\n",
      " [ 21.25]\n",
      " [ 25.  ]\n",
      " [ 28.75]\n",
      " [ 32.5 ]\n",
      " [ 36.25]\n",
      " [ 40.  ]\n",
      " [ 43.75]\n",
      " [ 47.5 ]\n",
      " [ 51.25]\n",
      " [ 55.  ]\n",
      " [ 58.75]\n",
      " [ 62.5 ]\n",
      " [ 66.25]\n",
      " [ 70.  ]\n",
      " [ 73.75]\n",
      " [ 77.5 ]\n",
      " [ 81.25]\n",
      " [ 85.  ]\n",
      " [ 88.75]\n",
      " [ 92.5 ]\n",
      " [ 96.25]\n",
      " [100.  ]]\n",
      "\n",
      "Transposed array using T attribute:\n",
      " [ 10.    13.75  17.5   21.25  25.    28.75  32.5   36.25  40.    43.75\n",
      "  47.5   51.25  55.    58.75  62.5   66.25  70.    73.75  77.5   81.25\n",
      "  85.    88.75  92.5   96.25 100.  ]\n"
     ]
    }
   ],
   "source": [
    "import numpy as np\n",
    "\n",
    "my_array = np.linspace(10, 100, 25)\n",
    "\n",
    "print(\"Array:\", my_array)\n",
    "print(\"Dimensions of array:\", my_array.ndim)  # Number of dimensions\n",
    "print(\"Shape of array:\", my_array.shape)  # Shape of array\n",
    "print(\"Total elements:\", my_array.size)  # Number of elements\n",
    "print(\"Data type of elements:\", my_array.dtype)  # Data type of elements\n",
    "print(\"Total bytes consumed:\", my_array.nbytes)  # Total bytes used by array\n",
    "\n",
    "# Transpose using reshape()\n",
    "transposed_array = my_array.reshape(25, 1)  # Convert 1D to 2D column vector\n",
    "print(\"\\nTransposed array using reshape():\\n\", transposed_array)\n",
    "\n",
    "# Check if we can use the T attribute\n",
    "transposed_T = my_array.T  # Transpose using T attribute\n",
    "print(\"\\nTransposed array using T attribute:\\n\", transposed_T)\n",
    "\n"
   ]
  },
  {
   "cell_type": "code",
   "execution_count": 6,
   "id": "577fe315-8510-4573-8866-25d8f5b5cdc2",
   "metadata": {},
   "outputs": [
    {
     "name": "stdout",
     "output_type": "stream",
     "text": [
      "Original 2D Array:\n",
      " [[10 20 30 40]\n",
      " [50 60 70 80]\n",
      " [90 15 20 35]]\n",
      "\n",
      "Mean: 43.333333333333336\n",
      "Median: 37.5\n",
      "Max: 90\n",
      "Min: 10\n",
      "Unique Elements: [10 15 20 30 35 40 50 60 70 80 90]\n",
      "\n",
      "Reshaped Array (4x3):\n",
      " [[10 20 30]\n",
      " [40 50 60]\n",
      " [70 80 90]\n",
      " [15 20 35]]\n",
      "\n",
      "Resized Array (2x3):\n",
      " [[10 20 30]\n",
      " [40 50 60]]\n"
     ]
    }
   ],
   "source": [
    "import numpy as np\n",
    "\n",
    "# Creating the 2-D array (3 rows, 4 columns)\n",
    "ucs420_myname = np.array([[10, 20, 30, 40], \n",
    "                          [50, 60, 70, 80], \n",
    "                          [90, 15, 20, 35]])\n",
    "\n",
    "# Compute statistical properties\n",
    "mean_value = np.mean(ucs420_myname)\n",
    "median_value = np.median(ucs420_myname)\n",
    "max_value = np.max(ucs420_myname)\n",
    "min_value = np.min(ucs420_myname)\n",
    "unique_elements = np.unique(ucs420_myname)\n",
    "\n",
    "# Reshape to 4 rows and 3 columns\n",
    "reshaped_ucs420_myname = ucs420_myname.reshape(4, 3)\n",
    "\n",
    "# Resize to 2 rows and 3 columns (Note: Resize modifies the original array if not copied)\n",
    "resized_ucs420_myname = np.resize(ucs420_myname, (2, 3))\n",
    "\n",
    "# Printing results\n",
    "print(\"Original 2D Array:\\n\", ucs420_myname)\n",
    "print(\"\\nMean:\", mean_value)\n",
    "print(\"Median:\", median_value)\n",
    "print(\"Max:\", max_value)\n",
    "print(\"Min:\", min_value)\n",
    "print(\"Unique Elements:\", unique_elements)\n",
    "\n",
    "print(\"\\nReshaped Array (4x3):\\n\", reshaped_ucs420_myname)\n",
    "print(\"\\nResized Array (2x3):\\n\", resized_ucs420_myname)\n"
   ]
  },
  {
   "cell_type": "code",
   "execution_count": null,
   "id": "31f6e0c9-ef76-40ff-96a2-e3c228b3039b",
   "metadata": {},
   "outputs": [],
   "source": []
  }
 ],
 "metadata": {
  "kernelspec": {
   "display_name": "Python 3 (ipykernel)",
   "language": "python",
   "name": "python3"
  },
  "language_info": {
   "codemirror_mode": {
    "name": "ipython",
    "version": 3
   },
   "file_extension": ".py",
   "mimetype": "text/x-python",
   "name": "python",
   "nbconvert_exporter": "python",
   "pygments_lexer": "ipython3",
   "version": "3.12.8"
  }
 },
 "nbformat": 4,
 "nbformat_minor": 5
}
