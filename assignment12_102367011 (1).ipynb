{
 "cells": [
  {
   "cell_type": "markdown",
   "id": "3e8b1796-9a6b-4b10-acdf-f9e77d696642",
   "metadata": {},
   "source": [
    "# 1. Deploy a Cognitive Systems or Chatbot for healthcare applications.\n",
    "# Use the following conversation-\n",
    "- 'Hi',\n",
    "- 'Hello! I am HealthBot. How can I assist you today?',\n",
    "- 'Hello',\n",
    "- 'Hi! Do you have a health-related question?',\n",
    "- 'I have a headache',\n",
    "- 'You should rest, stay hydrated, and take a mild pain reliever if needed.',\n",
    "- 'What should I do if I have a fever?',\n",
    "- 'Drink plenty of fluids and rest. If the fever persists, please consult a doctor.',\n",
    "- 'I feel dizzy',\n",
    "- 'Sit down, breathe deeply, and drink water. If it continues, seek medical help.',\n",
    "- 'What should I eat for a cold?',\n",
    "- 'Warm fluids, soups, citrus fruits, and light meals help during a cold.',\n",
    "- 'How to stay healthy?',\n",
    "- 'Eat balanced meals, exercise regularly, stay hydrated, and get enough sleep.',\n",
    "- 'What should I do in case of a cut?',\n",
    "- 'Clean the wound with water, apply antiseptic, and cover it with a clean bandage.',\n",
    "- 'How much water should I drink daily?',\n",
    "- 'Generally, 2 to 3 liters per day is recommended, but it varies based on your\n",
    "- activity.',\n",
    "- 'Thank you',\n",
    "- 'You’re welcome! Take care.',\n",
    "- 'Bye',\n",
    "- 'Goodbye! Stay healthy.'"
   ]
  },
  {
   "cell_type": "code",
   "execution_count": 1,
   "id": "2a8873e6-8ad5-4421-a868-9750b9624876",
   "metadata": {},
   "outputs": [],
   "source": [
    "from chatterbot import ChatBot\n",
    "from chatterbot.trainers import ListTrainer"
   ]
  },
  {
   "cell_type": "code",
   "execution_count": 2,
   "id": "18e85fef-8027-43c5-b1ec-7a295f203740",
   "metadata": {},
   "outputs": [],
   "source": [
    "healthbot = ChatBot(\n",
    "    name= 'HealthBot',\n",
    "    logic_adapters=['chatterbot.logic.BestMatch'],\n",
    "    read_only=True\n",
    ")"
   ]
  },
  {
   "cell_type": "code",
   "execution_count": 3,
   "id": "727199ce-7f0e-43aa-a725-1ec434483f3c",
   "metadata": {},
   "outputs": [],
   "source": [
    "trainer = ListTrainer(healthbot)"
   ]
  },
  {
   "cell_type": "code",
   "execution_count": 4,
   "id": "91d65e01-0b40-430b-86f8-c25cb8712648",
   "metadata": {},
   "outputs": [],
   "source": [
    "conversation = [\n",
    "    \"Hi\",\n",
    "    \"Hello! I am HealthBot. How can I assist you today?\",\n",
    "    \"Hello\",\n",
    "    \"Hi! Do you have a health-related question?\",\n",
    "    \"I have a headache\",\n",
    "    \"You should rest, stay hydrated, and take a mild pain reliever if needed.\",\n",
    "    \"What should I do if I have a fever?\",\n",
    "    \"Drink plenty of fluids and rest. If the fever persists, please consult a doctor.\",\n",
    "    \"I feel dizzy\",\n",
    "    \"Sit down, breathe deeply, and drink water. If it continues, seek medical help.\",\n",
    "    \"What should I eat for a cold?\",\n",
    "    \"Warm fluids, soups, citrus fruits, and light meals help during a cold.\",\n",
    "    \"How to stay healthy?\",\n",
    "    \"Eat balanced meals, exercise regularly, stay hydrated, and get enough sleep.\",\n",
    "    \"What should I do in case of a cut?\",\n",
    "    \"Clean the wound with water, apply antiseptic, and cover it with a clean bandage.\",\n",
    "    \"How much water should I drink daily?\",\n",
    "    \"Generally, 2 to 3 liters per day is recommended, but it varies based on your activity.\",\n",
    "    \"Thank you\",\n",
    "    \"You’re welcome! Take care.\",\n",
    "    \"Bye\",\n",
    "    \"Goodbye! Stay healthy.\"\n",
    "]"
   ]
  },
  {
   "cell_type": "code",
   "execution_count": 5,
   "id": "60faaf65-3cec-4a07-a0e1-b514c28a8d13",
   "metadata": {},
   "outputs": [
    {
     "name": "stderr",
     "output_type": "stream",
     "text": [
      "List Trainer: 22it [00:00, 294.58it/s]\n"
     ]
    }
   ],
   "source": [
    "trainer.train(conversation)"
   ]
  },
  {
   "cell_type": "code",
   "execution_count": 6,
   "id": "c6bf89b6-67b5-482d-8a6b-5b7a50eda6ea",
   "metadata": {},
   "outputs": [
    {
     "name": "stdout",
     "output_type": "stream",
     "text": [
      "HealthBot is ready! Type 'bye' to exit.\n",
      "\n"
     ]
    },
    {
     "name": "stdin",
     "output_type": "stream",
     "text": [
      "You:  HI\n"
     ]
    },
    {
     "name": "stdout",
     "output_type": "stream",
     "text": [
      "HealthBot: Hello! I am HealthBot. How can I assist you today?\n"
     ]
    },
    {
     "name": "stdin",
     "output_type": "stream",
     "text": [
      "You:  Hello\n"
     ]
    },
    {
     "name": "stdout",
     "output_type": "stream",
     "text": [
      "HealthBot: Hi! Do you have a health-related question?\n"
     ]
    },
    {
     "name": "stdin",
     "output_type": "stream",
     "text": [
      "You:  I have a headache\n"
     ]
    },
    {
     "name": "stdout",
     "output_type": "stream",
     "text": [
      "HealthBot: You should rest, stay hydrated, and take a mild pain reliever if needed.\n"
     ]
    },
    {
     "name": "stdin",
     "output_type": "stream",
     "text": [
      "You:  What should I do if I have a fever?\n"
     ]
    },
    {
     "name": "stdout",
     "output_type": "stream",
     "text": [
      "HealthBot: Drink plenty of fluids and rest. If the fever persists, please consult a doctor.\n"
     ]
    },
    {
     "name": "stdin",
     "output_type": "stream",
     "text": [
      "You:  I feel dizzy\n"
     ]
    },
    {
     "name": "stdout",
     "output_type": "stream",
     "text": [
      "HealthBot: Sit down, breathe deeply, and drink water. If it continues, seek medical help.\n"
     ]
    },
    {
     "name": "stdin",
     "output_type": "stream",
     "text": [
      "You:  What should I eat for a cold?\n"
     ]
    },
    {
     "name": "stdout",
     "output_type": "stream",
     "text": [
      "HealthBot: Warm fluids, soups, citrus fruits, and light meals help during a cold.\n"
     ]
    },
    {
     "name": "stdin",
     "output_type": "stream",
     "text": [
      "You:  How to stay healthy?\n"
     ]
    },
    {
     "name": "stdout",
     "output_type": "stream",
     "text": [
      "HealthBot: Eat balanced meals, exercise regularly, stay hydrated, and get enough sleep.\n"
     ]
    },
    {
     "name": "stdin",
     "output_type": "stream",
     "text": [
      "You:  What should I do in case of a cut?\n"
     ]
    },
    {
     "name": "stdout",
     "output_type": "stream",
     "text": [
      "HealthBot: Clean the wound with water, apply antiseptic, and cover it with a clean bandage.\n"
     ]
    },
    {
     "name": "stdin",
     "output_type": "stream",
     "text": [
      "You:  How much water should I drink daily?\n"
     ]
    },
    {
     "name": "stdout",
     "output_type": "stream",
     "text": [
      "HealthBot: Generally, 2 to 3 liters per day is recommended, but it varies based on your activity.\n"
     ]
    },
    {
     "name": "stdin",
     "output_type": "stream",
     "text": [
      "You:  Thank you\n"
     ]
    },
    {
     "name": "stdout",
     "output_type": "stream",
     "text": [
      "HealthBot: You’re welcome! Take care.\n"
     ]
    },
    {
     "name": "stdin",
     "output_type": "stream",
     "text": [
      "You:  Bye\n"
     ]
    },
    {
     "name": "stdout",
     "output_type": "stream",
     "text": [
      "HealthBot: Goodbye! Stay healthy.\n"
     ]
    }
   ],
   "source": [
    "print(\"HealthBot is ready! Type 'bye' to exit.\\n\")\n",
    "while True:\n",
    "    query = input(\"You: \")\n",
    "    if query.lower() == 'bye':\n",
    "        print(\"HealthBot: Goodbye! Stay healthy.\")\n",
    "        break\n",
    "    response = healthbot.get_response(query)\n",
    "    print(\"HealthBot:\", response)"
   ]
  },
  {
   "cell_type": "code",
   "execution_count": null,
   "id": "07be58a7-41aa-43e9-9b2f-b0cf85c1adcb",
   "metadata": {},
   "outputs": [],
   "source": []
  }
 ],
 "metadata": {
  "kernelspec": {
   "display_name": "Python 3 (ipykernel)",
   "language": "python",
   "name": "python3"
  },
  "language_info": {
   "codemirror_mode": {
    "name": "ipython",
    "version": 3
   },
   "file_extension": ".py",
   "mimetype": "text/x-python",
   "name": "python",
   "nbconvert_exporter": "python",
   "pygments_lexer": "ipython3",
   "version": "3.12.8"
  }
 },
 "nbformat": 4,
 "nbformat_minor": 5
}
