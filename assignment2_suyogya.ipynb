{
 "cells": [
  {
   "cell_type": "markdown",
   "metadata": {},
   "source": [
    "**1.Create a List L that is defined as= [10, 20, 30, 40, 50, 60, 70, 80].\n",
    "i. WAP to add 200 and 300 to L.\n",
    "ii. WAP to remove 10 and 30 from L.\n",
    "iii. WAP to sort L in ascending order.\n",
    "iv. WAP to sort L in descending order.**"
   ]
  },
  {
   "cell_type": "code",
   "execution_count": 1,
   "metadata": {},
   "outputs": [
    {
     "name": "stdout",
     "output_type": "stream",
     "text": [
      "After adding 200 and 300: [10, 20, 30, 40, 50, 60, 70, 80, 200, 300]\n",
      "After removing 10 and 30: [20, 40, 50, 60, 70, 80, 200, 300]\n",
      "List sorted in ascending order: [20, 40, 50, 60, 70, 80, 200, 300]\n",
      "List sorted in descending order: [300, 200, 80, 70, 60, 50, 40, 20]\n"
     ]
    }
   ],
   "source": [
    "L = [10, 20, 30, 40, 50, 60, 70, 80]\n",
    "\n",
    "L.append(200)\n",
    "L.append(300)\n",
    "print(\"After adding 200 and 300:\", L)\n",
    "\n",
    "L.remove(10)\n",
    "L.remove(30)\n",
    "print(\"After removing 10 and 30:\", L)\n",
    "\n",
    "L.sort()\n",
    "print(\"List sorted in ascending order:\", L)\n",
    "\n",
    "L.sort(reverse=True)\n",
    "print(\"List sorted in descending order:\", L)\n"
   ]
  },
  {
   "cell_type": "markdown",
   "metadata": {},
   "source": [
    "**2.Create a tuple of marks scored as scores = (45, 89.5, 76, 45.4, 89, 92, 58, 45) and\n",
    "perform the following operations using tuple functions:\n",
    "i. Identify the highest score and its index in the tuple.\n",
    "ii. Find the lowest score and count how many times it appears.\n",
    "iii. Reverse the tuple and return it as a list.\n",
    "iv. Check if a specific score ‘76’ (input by the user) is present in the tuple and\n",
    "print its first occurrence index, or a message saying it’s not present.**"
   ]
  },
  {
   "cell_type": "code",
   "execution_count": 2,
   "metadata": {},
   "outputs": [
    {
     "name": "stdout",
     "output_type": "stream",
     "text": [
      "Highest score: 92 at index 5\n",
      "Lowest score: 45 appears 2 times\n",
      "Reversed tuple as a list: [45, 58, 92, 89, 45.4, 76, 89.5, 45]\n",
      "Score 76 is present at index 2\n"
     ]
    }
   ],
   "source": [
    "scores = (45, 89.5, 76, 45.4, 89, 92, 58, 45)\n",
    "\n",
    "highest_score = max(scores)\n",
    "highest_index = scores.index(highest_score)\n",
    "print(\"Highest score:\", highest_score, \"at index\", highest_index)\n",
    "\n",
    "lowest_score = min(scores)\n",
    "lowest_count = scores.count(lowest_score)\n",
    "print(\"Lowest score:\", lowest_score, \"appears\", lowest_count, \"times\")\n",
    "\n",
    "reversed_scores = list(reversed(scores))\n",
    "print(\"Reversed tuple as a list:\", reversed_scores)\n",
    "\n",
    "specific_score = 76\n",
    "if specific_score in scores:\n",
    "    print(\"Score\", specific_score, \"is present at index\", scores.index(specific_score))\n",
    "else:\n",
    "    print(\"Score\", specific_score, \"is not present in the tuple\")\n"
   ]
  },
  {
   "cell_type": "markdown",
   "metadata": {},
   "source": [
    "**3. WAP to create a list of 100 random numbers between 100 and 900. Count and print\n",
    "the:\n",
    "i. All odd numbers\n",
    "ii. All even numbers\n",
    "iii. All prime numbers**"
   ]
  },
  {
   "cell_type": "code",
   "execution_count": 3,
   "metadata": {},
   "outputs": [
    {
     "name": "stdout",
     "output_type": "stream",
     "text": [
      "Odd numbers: [471, 827, 461, 569, 197, 403, 707, 279, 317, 423, 581, 723, 885, 481, 503, 591, 107, 279, 723, 149, 319, 743, 471, 701, 355, 191, 275, 865, 347, 689, 765, 635, 579, 429, 743, 897, 327, 687]\n",
      "Count of odd numbers: 38\n",
      "Even numbers: [458, 692, 422, 684, 342, 754, 502, 642, 852, 132, 414, 574, 652, 740, 330, 762, 824, 484, 154, 176, 220, 646, 606, 584, 312, 636, 128, 154, 116, 888, 610, 280, 598, 854, 852, 752, 326, 248, 644, 182, 418, 366, 638, 122, 270, 792, 388, 194, 358, 414, 444, 856, 530, 660, 382, 224, 758, 818, 344, 490, 758, 502]\n",
      "Count of even numbers: 62\n",
      "Prime numbers: [827, 461, 569, 197, 317, 503, 107, 149, 743, 701, 191, 347, 743]\n",
      "Count of prime numbers: 13\n"
     ]
    }
   ],
   "source": [
    "import random\n",
    "\n",
    "def is_prime(num):\n",
    "    if num < 2:\n",
    "        return False\n",
    "    for i in range(2, int(num ** 0.5) + 1):\n",
    "        if num % i == 0:\n",
    "            return False\n",
    "    return True\n",
    "\n",
    "random_numbers = [random.randint(100, 900) for _ in range(100)]\n",
    "\n",
    "odd_numbers = [num for num in random_numbers if num % 2 != 0]\n",
    "even_numbers = [num for num in random_numbers if num % 2 == 0]\n",
    "prime_numbers = [num for num in random_numbers if is_prime(num)]\n",
    "\n",
    "print(\"Odd numbers:\", odd_numbers)\n",
    "print(\"Count of odd numbers:\", len(odd_numbers))\n",
    "print(\"Even numbers:\", even_numbers)\n",
    "print(\"Count of even numbers:\", len(even_numbers))\n",
    "print(\"Prime numbers:\", prime_numbers)\n",
    "print(\"Count of prime numbers:\", len(prime_numbers))\n"
   ]
  },
  {
   "cell_type": "markdown",
   "metadata": {},
   "source": [
    "**4. Consider the following two sets, A and B, representing scores of two teams in multiple\n",
    "matches. A = {34, 56, 78, 90} and B = {78, 45, 90, 23}\n",
    "WAP to perform the following operations using set functions:\n",
    "i. Find the unique scores achieved by both teams (union of sets).\n",
    "ii. Identify the scores that are common to both teams (intersection of sets).\n",
    "iii. Find the scores that are exclusive to each team (symmetric difference).\n",
    "iv. Check if the scores of team A are a subset of team B, and if team B's scores are\n",
    "a superset of team A.\n",
    "v. Remove a specific score X (input by the user) from set A if it exists. If not, print\n",
    "a message saying it is not present.**"
   ]
  },
  {
   "cell_type": "code",
   "execution_count": 4,
   "metadata": {},
   "outputs": [
    {
     "name": "stdout",
     "output_type": "stream",
     "text": [
      "Unique scores (Union): {34, 45, 78, 23, 56, 90}\n",
      "Common scores (Intersection): {90, 78}\n",
      "Exclusive scores (Symmetric Difference): {34, 45, 23, 56}\n",
      "Team A's scores are a subset of Team B: False\n",
      "Team B's scores are a superset of Team A: False\n",
      "Updated Team A after removing 34 : {56, 90, 78}\n"
     ]
    }
   ],
   "source": [
    "A = {34, 56, 78, 90}\n",
    "B = {78, 45, 90, 23}\n",
    "\n",
    "unique_scores = A.union(B)\n",
    "print(\"Unique scores (Union):\", unique_scores)\n",
    "\n",
    "common_scores = A.intersection(B)\n",
    "print(\"Common scores (Intersection):\", common_scores)\n",
    "\n",
    "exclusive_scores = A.symmetric_difference(B)\n",
    "print(\"Exclusive scores (Symmetric Difference):\", exclusive_scores)\n",
    "\n",
    "is_subset = A.issubset(B)\n",
    "is_superset = B.issuperset(A)\n",
    "print(\"Team A's scores are a subset of Team B:\", is_subset)\n",
    "print(\"Team B's scores are a superset of Team A:\", is_superset)\n",
    "\n",
    "X = int(input(\"Enter a score to remove from Team A: \"))\n",
    "if X in A:\n",
    "    A.remove(X)\n",
    "    print(\"Updated Team A after removing\", X, \":\", A)\n",
    "else:\n",
    "    print(\"Score\", X, \"is not present in Team A.\")\n"
   ]
  },
  {
   "cell_type": "markdown",
   "metadata": {},
   "source": [
    "**5.Write a program to rename a key city to a location in the following dictionary.\n",
    "sample_dict = {\n",
    "    \"name\": \"Kelly\",\n",
    "    \"age\": 25,\n",
    "    \"salary\": 8000,\n",
    "    \"city\": \"New york\"\n",
    "}**"
   ]
  },
  {
   "cell_type": "code",
   "execution_count": 5,
   "metadata": {},
   "outputs": [
    {
     "name": "stdout",
     "output_type": "stream",
     "text": [
      "Updated dictionary: {'name': 'Kelly', 'age': 25, 'salary': 8000, 'location': 'New york'}\n"
     ]
    }
   ],
   "source": [
    "sample_dict = {\n",
    "    \"name\": \"Kelly\",\n",
    "    \"age\": 25,\n",
    "    \"salary\": 8000,\n",
    "    \"city\": \"New york\"\n",
    "}\n",
    "\n",
    "sample_dict[\"location\"] = sample_dict.pop(\"city\")\n",
    "print(\"Updated dictionary:\", sample_dict)\n"
   ]
  }
 ],
 "metadata": {
  "kernelspec": {
   "display_name": "Python 3",
   "language": "python",
   "name": "python3"
  },
  "language_info": {
   "codemirror_mode": {
    "name": "ipython",
    "version": 3
   },
   "file_extension": ".py",
   "mimetype": "text/x-python",
   "name": "python",
   "nbconvert_exporter": "python",
   "pygments_lexer": "ipython3",
   "version": "3.13.1"
  }
 },
 "nbformat": 4,
 "nbformat_minor": 2
}
